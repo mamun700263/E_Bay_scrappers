{
 "cells": [
  {
   "cell_type": "code",
   "execution_count": 1,
   "metadata": {},
   "outputs": [],
   "source": [
    "import random \n",
    "import time\n",
    "from lxml import html\n",
    "from bs4 import BeautifulSoup\n",
    "from selenium import webdriver\n",
    "from selenium.webdriver.chrome.options import Options\n",
    "from selenium.webdriver.common.by import By\n",
    "from selenium.webdriver.common.keys import Keys\n",
    "import undetected_chromedriver as uc"
   ]
  },
  {
   "cell_type": "code",
   "execution_count": 2,
   "metadata": {},
   "outputs": [],
   "source": [
    "\n",
    "def get_driver():\n",
    "    user_agents = [\n",
    "        \"Mozilla/5.0 (Windows NT 10.0; Win64; x64) AppleWebKit/537.36 (KHTML, like Gecko) Chrome/122.0.0.0 Safari/537.36\",\n",
    "        \"Mozilla/5.0 (Windows NT 10.0; Win64; x64; rv:120.0) Gecko/20100101 Firefox/120.0\",\n",
    "        \"Mozilla/5.0 (Windows NT 10.0; Win64; x64) AppleWebKit/537.36 (KHTML, like Gecko) Edge/122.0.0.0 Safari/537.36\",\n",
    "        \"Mozilla/5.0 (Macintosh; Intel Mac OS X 10_15_7) AppleWebKit/537.36 (KHTML, like Gecko) Chrome/122.0.0.0 Safari/537.36\",\n",
    "        \"Mozilla/5.0 (Macintosh; Intel Mac OS X 10_15_7) AppleWebKit/537.36 (KHTML, like Gecko) Firefox/120.0 Safari/537.36\",\n",
    "        \"Mozilla/5.0 (X11; Linux x86_64) AppleWebKit/537.36 (KHTML, like Gecko) Chrome/122.0.0.0 Safari/537.36\",\n",
    "        \"Mozilla/5.0 (X11; Linux x86_64; rv:120.0) Gecko/20100101 Firefox/120.0\",\n",
    "        \"Mozilla/5.0 (Linux; Android 14; SM-S918B) AppleWebKit/537.36 (KHTML, like Gecko) Chrome/122.0.0.0 Mobile Safari/537.36\",\n",
    "        \"Mozilla/5.0 (Linux; Android 13; Pixel 7 Pro) AppleWebKit/537.36 (KHTML, like Gecko) Chrome/122.0.0.0 Mobile Safari/537.36\",\n",
    "        \"Mozilla/5.0 (Linux; Android 12; SM-G991B) AppleWebKit/537.36 (KHTML, like Gecko) Chrome/120.0.0.0 Mobile Safari/537.36\",\n",
    "        \"Mozilla/5.0 (Android 13; Mobile; rv:120.0) Gecko/120.0 Firefox/120.0\",\n",
    "        \"Mozilla/5.0 (iPhone; CPU iPhone OS 17_0 like Mac OS X) AppleWebKit/537.36 (KHTML, like Gecko) Version/17.0 Mobile/15E148 Safari/537.36\",\n",
    "        \"Mozilla/5.0 (iPhone; CPU iPhone OS 16_5 like Mac OS X) AppleWebKit/537.36 (KHTML, like Gecko) CriOS/120.0.0.0 Mobile/15E148 Safari/537.36\",\n",
    "        \"Mozilla/5.0 (iPad; CPU OS 16_1 like Mac OS X) AppleWebKit/537.36 (KHTML, like Gecko) Version/16.1 Mobile/15E148 Safari/537.36\"\n",
    "    ]\n",
    "\n",
    "    random_user_agent = random.choice(user_agents)\n",
    "\n",
    "    # === 🚀 Powerful Chrome Options for Stealth ===\n",
    "    options = Options()\n",
    "\n",
    "    # 🛡️ Anti-Detection Features\n",
    "    options.add_argument(\"--no-sandbox\")  # Bypass OS security model\n",
    "    options.add_argument(\"--disable-blink-features=AutomationControlled\")  # Hide automation\n",
    "    options.add_argument(\"--disable-dev-shm-usage\")  # Prevent crashes in Docker/VMs\n",
    "    options.add_argument(\"--disable-infobars\")  # Remove \"Chrome is being controlled\" message\n",
    "    options.add_argument(\"--remote-debugging-port=9222\")  # Allow debugging\n",
    "    options.add_argument(\"--disable-popup-blocking\")  # Ensure no pop-ups are blocked\n",
    "\n",
    "    # 🎭 Appear More Human\n",
    "    options.add_argument(\"--start-maximized\")  # Open in fullscreen\n",
    "\n",
    "    # 🌍 Use a Real User-Agent to Blend In\n",
    "    options.add_argument(f\"--user-agent={random_user_agent}\")\n",
    "\n",
    "    driver = webdriver.Chrome(options=options)\n",
    "    return driver "
   ]
  },
  {
   "cell_type": "code",
   "execution_count": null,
   "metadata": {},
   "outputs": [
    {
     "ename": "InvalidArgumentException",
     "evalue": "Message: invalid argument: cannot parse capability: goog:chromeOptions\nfrom invalid argument: unrecognized chrome option: excludeSwitches\nStacktrace:\n#0 0x5e7d979edd0a <unknown>\n#1 0x5e7d9749e5f0 <unknown>\n#2 0x5e7d974cb3d0 <unknown>\n#3 0x5e7d974cc9f5 <unknown>\n#4 0x5e7d974c7c0d <unknown>\n#5 0x5e7d97522188 <unknown>\n#6 0x5e7d975219ca <unknown>\n#7 0x5e7d975236f2 <unknown>\n#8 0x5e7d975234c6 <unknown>\n#9 0x5e7d97515433 <unknown>\n#10 0x5e7d974e1ea3 <unknown>\n#11 0x5e7d974e2b01 <unknown>\n#12 0x5e7d979b2b5b <unknown>\n#13 0x5e7d979b6a41 <unknown>\n#14 0x5e7d97999c52 <unknown>\n#15 0x5e7d979b75b4 <unknown>\n#16 0x5e7d9797df0f <unknown>\n#17 0x5e7d979dbdb8 <unknown>\n#18 0x5e7d979dbf96 <unknown>\n#19 0x5e7d979ecb56 <unknown>\n#20 0x7e367669caa4 <unknown>\n#21 0x7e3676729c3c <unknown>\n",
     "output_type": "error",
     "traceback": [
      "\u001b[31m---------------------------------------------------------------------------\u001b[39m",
      "\u001b[31mInvalidArgumentException\u001b[39m                  Traceback (most recent call last)",
      "\u001b[36mCell\u001b[39m\u001b[36m \u001b[39m\u001b[32mIn[11]\u001b[39m\u001b[32m, line 45\u001b[39m\n\u001b[32m     43\u001b[39m     driver = uc.Chrome(options=options)\n\u001b[32m     44\u001b[39m     \u001b[38;5;28;01mreturn\u001b[39;00m driver\n\u001b[32m---> \u001b[39m\u001b[32m45\u001b[39m driver = \u001b[43mget_uc_driver\u001b[49m\u001b[43m(\u001b[49m\u001b[43m)\u001b[49m\n",
      "\u001b[36mCell\u001b[39m\u001b[36m \u001b[39m\u001b[32mIn[11]\u001b[39m\u001b[32m, line 43\u001b[39m, in \u001b[36mget_uc_driver\u001b[39m\u001b[34m(headless, incognito)\u001b[39m\n\u001b[32m     39\u001b[39m options.add_experimental_option(\u001b[33m\"\u001b[39m\u001b[33mexcludeSwitches\u001b[39m\u001b[33m\"\u001b[39m, [\u001b[33m\"\u001b[39m\u001b[33menable-automation\u001b[39m\u001b[33m\"\u001b[39m])\n\u001b[32m     40\u001b[39m \u001b[38;5;66;03m# options.add_experimental_option(\"useAutomationExtension\", False)\u001b[39;00m\n\u001b[32m     41\u001b[39m \n\u001b[32m     42\u001b[39m \u001b[38;5;66;03m# 🚀 Init driver with stealth patches applied\u001b[39;00m\n\u001b[32m---> \u001b[39m\u001b[32m43\u001b[39m driver = \u001b[43muc\u001b[49m\u001b[43m.\u001b[49m\u001b[43mChrome\u001b[49m\u001b[43m(\u001b[49m\u001b[43moptions\u001b[49m\u001b[43m=\u001b[49m\u001b[43moptions\u001b[49m\u001b[43m)\u001b[49m\n\u001b[32m     44\u001b[39m \u001b[38;5;28;01mreturn\u001b[39;00m driver\n",
      "\u001b[36mFile \u001b[39m\u001b[32m/media/md-abdullah-all-mamun/Development1/programming/webscraping/Scrappers_for_github/ebay_scrapper/venv/lib/python3.12/site-packages/undetected_chromedriver/__init__.py:466\u001b[39m, in \u001b[36mChrome.__init__\u001b[39m\u001b[34m(self, options, user_data_dir, driver_executable_path, browser_executable_path, port, enable_cdp_events, desired_capabilities, advanced_elements, keep_alive, log_level, headless, version_main, patcher_force_close, suppress_welcome, use_subprocess, debug, no_sandbox, user_multi_procs, **kw)\u001b[39m\n\u001b[32m    459\u001b[39m     \u001b[38;5;28mself\u001b[39m.browser_pid = browser.pid\n\u001b[32m    462\u001b[39m service = selenium.webdriver.chromium.service.ChromiumService(\n\u001b[32m    463\u001b[39m     \u001b[38;5;28mself\u001b[39m.patcher.executable_path\n\u001b[32m    464\u001b[39m )\n\u001b[32m--> \u001b[39m\u001b[32m466\u001b[39m \u001b[38;5;28;43msuper\u001b[39;49m\u001b[43m(\u001b[49m\u001b[43mChrome\u001b[49m\u001b[43m,\u001b[49m\u001b[43m \u001b[49m\u001b[38;5;28;43mself\u001b[39;49m\u001b[43m)\u001b[49m\u001b[43m.\u001b[49m\u001b[34;43m__init__\u001b[39;49m\u001b[43m(\u001b[49m\n\u001b[32m    467\u001b[39m \u001b[43m    \u001b[49m\u001b[43mservice\u001b[49m\u001b[43m=\u001b[49m\u001b[43mservice\u001b[49m\u001b[43m,\u001b[49m\n\u001b[32m    468\u001b[39m \u001b[43m    \u001b[49m\u001b[43moptions\u001b[49m\u001b[43m=\u001b[49m\u001b[43moptions\u001b[49m\u001b[43m,\u001b[49m\n\u001b[32m    469\u001b[39m \u001b[43m    \u001b[49m\u001b[43mkeep_alive\u001b[49m\u001b[43m=\u001b[49m\u001b[43mkeep_alive\u001b[49m\u001b[43m,\u001b[49m\n\u001b[32m    470\u001b[39m \u001b[43m\u001b[49m\u001b[43m)\u001b[49m\n\u001b[32m    472\u001b[39m \u001b[38;5;28mself\u001b[39m.reactor = \u001b[38;5;28;01mNone\u001b[39;00m\n\u001b[32m    474\u001b[39m \u001b[38;5;28;01mif\u001b[39;00m enable_cdp_events:\n",
      "\u001b[36mFile \u001b[39m\u001b[32m/media/md-abdullah-all-mamun/Development1/programming/webscraping/Scrappers_for_github/ebay_scrapper/venv/lib/python3.12/site-packages/selenium/webdriver/chrome/webdriver.py:45\u001b[39m, in \u001b[36mWebDriver.__init__\u001b[39m\u001b[34m(self, options, service, keep_alive)\u001b[39m\n\u001b[32m     42\u001b[39m service = service \u001b[38;5;28;01mif\u001b[39;00m service \u001b[38;5;28;01melse\u001b[39;00m Service()\n\u001b[32m     43\u001b[39m options = options \u001b[38;5;28;01mif\u001b[39;00m options \u001b[38;5;28;01melse\u001b[39;00m Options()\n\u001b[32m---> \u001b[39m\u001b[32m45\u001b[39m \u001b[38;5;28;43msuper\u001b[39;49m\u001b[43m(\u001b[49m\u001b[43m)\u001b[49m\u001b[43m.\u001b[49m\u001b[34;43m__init__\u001b[39;49m\u001b[43m(\u001b[49m\n\u001b[32m     46\u001b[39m \u001b[43m    \u001b[49m\u001b[43mbrowser_name\u001b[49m\u001b[43m=\u001b[49m\u001b[43mDesiredCapabilities\u001b[49m\u001b[43m.\u001b[49m\u001b[43mCHROME\u001b[49m\u001b[43m[\u001b[49m\u001b[33;43m\"\u001b[39;49m\u001b[33;43mbrowserName\u001b[39;49m\u001b[33;43m\"\u001b[39;49m\u001b[43m]\u001b[49m\u001b[43m,\u001b[49m\n\u001b[32m     47\u001b[39m \u001b[43m    \u001b[49m\u001b[43mvendor_prefix\u001b[49m\u001b[43m=\u001b[49m\u001b[33;43m\"\u001b[39;49m\u001b[33;43mgoog\u001b[39;49m\u001b[33;43m\"\u001b[39;49m\u001b[43m,\u001b[49m\n\u001b[32m     48\u001b[39m \u001b[43m    \u001b[49m\u001b[43moptions\u001b[49m\u001b[43m=\u001b[49m\u001b[43moptions\u001b[49m\u001b[43m,\u001b[49m\n\u001b[32m     49\u001b[39m \u001b[43m    \u001b[49m\u001b[43mservice\u001b[49m\u001b[43m=\u001b[49m\u001b[43mservice\u001b[49m\u001b[43m,\u001b[49m\n\u001b[32m     50\u001b[39m \u001b[43m    \u001b[49m\u001b[43mkeep_alive\u001b[49m\u001b[43m=\u001b[49m\u001b[43mkeep_alive\u001b[49m\u001b[43m,\u001b[49m\n\u001b[32m     51\u001b[39m \u001b[43m\u001b[49m\u001b[43m)\u001b[49m\n",
      "\u001b[36mFile \u001b[39m\u001b[32m/media/md-abdullah-all-mamun/Development1/programming/webscraping/Scrappers_for_github/ebay_scrapper/venv/lib/python3.12/site-packages/selenium/webdriver/chromium/webdriver.py:66\u001b[39m, in \u001b[36mChromiumDriver.__init__\u001b[39m\u001b[34m(self, browser_name, vendor_prefix, options, service, keep_alive)\u001b[39m\n\u001b[32m     57\u001b[39m executor = ChromiumRemoteConnection(\n\u001b[32m     58\u001b[39m     remote_server_addr=\u001b[38;5;28mself\u001b[39m.service.service_url,\n\u001b[32m     59\u001b[39m     browser_name=browser_name,\n\u001b[32m   (...)\u001b[39m\u001b[32m     62\u001b[39m     ignore_proxy=options._ignore_local_proxy,\n\u001b[32m     63\u001b[39m )\n\u001b[32m     65\u001b[39m \u001b[38;5;28;01mtry\u001b[39;00m:\n\u001b[32m---> \u001b[39m\u001b[32m66\u001b[39m     \u001b[38;5;28;43msuper\u001b[39;49m\u001b[43m(\u001b[49m\u001b[43m)\u001b[49m\u001b[43m.\u001b[49m\u001b[34;43m__init__\u001b[39;49m\u001b[43m(\u001b[49m\u001b[43mcommand_executor\u001b[49m\u001b[43m=\u001b[49m\u001b[43mexecutor\u001b[49m\u001b[43m,\u001b[49m\u001b[43m \u001b[49m\u001b[43moptions\u001b[49m\u001b[43m=\u001b[49m\u001b[43moptions\u001b[49m\u001b[43m)\u001b[49m\n\u001b[32m     67\u001b[39m \u001b[38;5;28;01mexcept\u001b[39;00m \u001b[38;5;167;01mException\u001b[39;00m:\n\u001b[32m     68\u001b[39m     \u001b[38;5;28mself\u001b[39m.quit()\n",
      "\u001b[36mFile \u001b[39m\u001b[32m/media/md-abdullah-all-mamun/Development1/programming/webscraping/Scrappers_for_github/ebay_scrapper/venv/lib/python3.12/site-packages/selenium/webdriver/remote/webdriver.py:250\u001b[39m, in \u001b[36mWebDriver.__init__\u001b[39m\u001b[34m(self, command_executor, keep_alive, file_detector, options, locator_converter, web_element_cls, client_config)\u001b[39m\n\u001b[32m    248\u001b[39m \u001b[38;5;28mself\u001b[39m._authenticator_id = \u001b[38;5;28;01mNone\u001b[39;00m\n\u001b[32m    249\u001b[39m \u001b[38;5;28mself\u001b[39m.start_client()\n\u001b[32m--> \u001b[39m\u001b[32m250\u001b[39m \u001b[38;5;28;43mself\u001b[39;49m\u001b[43m.\u001b[49m\u001b[43mstart_session\u001b[49m\u001b[43m(\u001b[49m\u001b[43mcapabilities\u001b[49m\u001b[43m)\u001b[49m\n\u001b[32m    251\u001b[39m \u001b[38;5;28mself\u001b[39m._fedcm = FedCM(\u001b[38;5;28mself\u001b[39m)\n\u001b[32m    253\u001b[39m \u001b[38;5;28mself\u001b[39m._websocket_connection = \u001b[38;5;28;01mNone\u001b[39;00m\n",
      "\u001b[36mFile \u001b[39m\u001b[32m/media/md-abdullah-all-mamun/Development1/programming/webscraping/Scrappers_for_github/ebay_scrapper/venv/lib/python3.12/site-packages/undetected_chromedriver/__init__.py:724\u001b[39m, in \u001b[36mChrome.start_session\u001b[39m\u001b[34m(self, capabilities, browser_profile)\u001b[39m\n\u001b[32m    722\u001b[39m \u001b[38;5;28;01mif\u001b[39;00m \u001b[38;5;129;01mnot\u001b[39;00m capabilities:\n\u001b[32m    723\u001b[39m     capabilities = \u001b[38;5;28mself\u001b[39m.options.to_capabilities()\n\u001b[32m--> \u001b[39m\u001b[32m724\u001b[39m \u001b[38;5;28;43msuper\u001b[39;49m\u001b[43m(\u001b[49m\u001b[43mselenium\u001b[49m\u001b[43m.\u001b[49m\u001b[43mwebdriver\u001b[49m\u001b[43m.\u001b[49m\u001b[43mchrome\u001b[49m\u001b[43m.\u001b[49m\u001b[43mwebdriver\u001b[49m\u001b[43m.\u001b[49m\u001b[43mWebDriver\u001b[49m\u001b[43m,\u001b[49m\u001b[43m \u001b[49m\u001b[38;5;28;43mself\u001b[39;49m\u001b[43m)\u001b[49m\u001b[43m.\u001b[49m\u001b[43mstart_session\u001b[49m\u001b[43m(\u001b[49m\n\u001b[32m    725\u001b[39m \u001b[43m    \u001b[49m\u001b[43mcapabilities\u001b[49m\n\u001b[32m    726\u001b[39m \u001b[43m\u001b[49m\u001b[43m)\u001b[49m\n",
      "\u001b[36mFile \u001b[39m\u001b[32m/media/md-abdullah-all-mamun/Development1/programming/webscraping/Scrappers_for_github/ebay_scrapper/venv/lib/python3.12/site-packages/selenium/webdriver/remote/webdriver.py:342\u001b[39m, in \u001b[36mWebDriver.start_session\u001b[39m\u001b[34m(self, capabilities)\u001b[39m\n\u001b[32m    333\u001b[39m \u001b[38;5;250m\u001b[39m\u001b[33;03m\"\"\"Creates a new session with the desired capabilities.\u001b[39;00m\n\u001b[32m    334\u001b[39m \n\u001b[32m    335\u001b[39m \u001b[33;03mParameters:\u001b[39;00m\n\u001b[32m   (...)\u001b[39m\u001b[32m    338\u001b[39m \u001b[33;03m    - A capabilities dict to start the session with.\u001b[39;00m\n\u001b[32m    339\u001b[39m \u001b[33;03m\"\"\"\u001b[39;00m\n\u001b[32m    341\u001b[39m caps = _create_caps(capabilities)\n\u001b[32m--> \u001b[39m\u001b[32m342\u001b[39m response = \u001b[38;5;28;43mself\u001b[39;49m\u001b[43m.\u001b[49m\u001b[43mexecute\u001b[49m\u001b[43m(\u001b[49m\u001b[43mCommand\u001b[49m\u001b[43m.\u001b[49m\u001b[43mNEW_SESSION\u001b[49m\u001b[43m,\u001b[49m\u001b[43m \u001b[49m\u001b[43mcaps\u001b[49m\u001b[43m)\u001b[49m[\u001b[33m\"\u001b[39m\u001b[33mvalue\u001b[39m\u001b[33m\"\u001b[39m]\n\u001b[32m    343\u001b[39m \u001b[38;5;28mself\u001b[39m.session_id = response.get(\u001b[33m\"\u001b[39m\u001b[33msessionId\u001b[39m\u001b[33m\"\u001b[39m)\n\u001b[32m    344\u001b[39m \u001b[38;5;28mself\u001b[39m.caps = response.get(\u001b[33m\"\u001b[39m\u001b[33mcapabilities\u001b[39m\u001b[33m\"\u001b[39m)\n",
      "\u001b[36mFile \u001b[39m\u001b[32m/media/md-abdullah-all-mamun/Development1/programming/webscraping/Scrappers_for_github/ebay_scrapper/venv/lib/python3.12/site-packages/selenium/webdriver/remote/webdriver.py:429\u001b[39m, in \u001b[36mWebDriver.execute\u001b[39m\u001b[34m(self, driver_command, params)\u001b[39m\n\u001b[32m    427\u001b[39m response = \u001b[38;5;28mself\u001b[39m.command_executor.execute(driver_command, params)\n\u001b[32m    428\u001b[39m \u001b[38;5;28;01mif\u001b[39;00m response:\n\u001b[32m--> \u001b[39m\u001b[32m429\u001b[39m     \u001b[38;5;28;43mself\u001b[39;49m\u001b[43m.\u001b[49m\u001b[43merror_handler\u001b[49m\u001b[43m.\u001b[49m\u001b[43mcheck_response\u001b[49m\u001b[43m(\u001b[49m\u001b[43mresponse\u001b[49m\u001b[43m)\u001b[49m\n\u001b[32m    430\u001b[39m     response[\u001b[33m\"\u001b[39m\u001b[33mvalue\u001b[39m\u001b[33m\"\u001b[39m] = \u001b[38;5;28mself\u001b[39m._unwrap_value(response.get(\u001b[33m\"\u001b[39m\u001b[33mvalue\u001b[39m\u001b[33m\"\u001b[39m, \u001b[38;5;28;01mNone\u001b[39;00m))\n\u001b[32m    431\u001b[39m     \u001b[38;5;28;01mreturn\u001b[39;00m response\n",
      "\u001b[36mFile \u001b[39m\u001b[32m/media/md-abdullah-all-mamun/Development1/programming/webscraping/Scrappers_for_github/ebay_scrapper/venv/lib/python3.12/site-packages/selenium/webdriver/remote/errorhandler.py:232\u001b[39m, in \u001b[36mErrorHandler.check_response\u001b[39m\u001b[34m(self, response)\u001b[39m\n\u001b[32m    230\u001b[39m         alert_text = value[\u001b[33m\"\u001b[39m\u001b[33malert\u001b[39m\u001b[33m\"\u001b[39m].get(\u001b[33m\"\u001b[39m\u001b[33mtext\u001b[39m\u001b[33m\"\u001b[39m)\n\u001b[32m    231\u001b[39m     \u001b[38;5;28;01mraise\u001b[39;00m exception_class(message, screen, stacktrace, alert_text)  \u001b[38;5;66;03m# type: ignore[call-arg]  # mypy is not smart enough here\u001b[39;00m\n\u001b[32m--> \u001b[39m\u001b[32m232\u001b[39m \u001b[38;5;28;01mraise\u001b[39;00m exception_class(message, screen, stacktrace)\n",
      "\u001b[31mInvalidArgumentException\u001b[39m: Message: invalid argument: cannot parse capability: goog:chromeOptions\nfrom invalid argument: unrecognized chrome option: excludeSwitches\nStacktrace:\n#0 0x5e7d979edd0a <unknown>\n#1 0x5e7d9749e5f0 <unknown>\n#2 0x5e7d974cb3d0 <unknown>\n#3 0x5e7d974cc9f5 <unknown>\n#4 0x5e7d974c7c0d <unknown>\n#5 0x5e7d97522188 <unknown>\n#6 0x5e7d975219ca <unknown>\n#7 0x5e7d975236f2 <unknown>\n#8 0x5e7d975234c6 <unknown>\n#9 0x5e7d97515433 <unknown>\n#10 0x5e7d974e1ea3 <unknown>\n#11 0x5e7d974e2b01 <unknown>\n#12 0x5e7d979b2b5b <unknown>\n#13 0x5e7d979b6a41 <unknown>\n#14 0x5e7d97999c52 <unknown>\n#15 0x5e7d979b75b4 <unknown>\n#16 0x5e7d9797df0f <unknown>\n#17 0x5e7d979dbdb8 <unknown>\n#18 0x5e7d979dbf96 <unknown>\n#19 0x5e7d979ecb56 <unknown>\n#20 0x7e367669caa4 <unknown>\n#21 0x7e3676729c3c <unknown>\n"
     ]
    }
   ],
   "source": [
    "def get_uc_driver(headless=False, incognito=True):\n",
    "    user_agents = [\n",
    "        \"Mozilla/5.0 (Windows NT 10.0; Win64; x64) AppleWebKit/537.36 (KHTML, like Gecko) Chrome/122.0.0.0 Safari/537.36\",\n",
    "        \"Mozilla/5.0 (Windows NT 10.0; Win64; x64; rv:120.0) Gecko/20100101 Firefox/120.0\",\n",
    "        \"Mozilla/5.0 (Windows NT 10.0; Win64; x64) AppleWebKit/537.36 (KHTML, like Gecko) Edge/122.0.0.0 Safari/537.36\",\n",
    "        \"Mozilla/5.0 (Macintosh; Intel Mac OS X 10_15_7) AppleWebKit/537.36 (KHTML, like Gecko) Chrome/122.0.0.0 Safari/537.36\",\n",
    "        \"Mozilla/5.0 (Macintosh; Intel Mac OS X 10_15_7) AppleWebKit/537.36 (KHTML, like Gecko) Firefox/120.0 Safari/537.36\",\n",
    "        \"Mozilla/5.0 (X11; Linux x86_64) AppleWebKit/537.36 (KHTML, like Gecko) Chrome/122.0.0.0 Safari/537.36\",\n",
    "        \"Mozilla/5.0 (X11; Linux x86_64; rv:120.0) Gecko/20100101 Firefox/120.0\",\n",
    "        \"Mozilla/5.0 (Linux; Android 14; SM-S918B) AppleWebKit/537.36 (KHTML, like Gecko) Chrome/122.0.0.0 Mobile Safari/537.36\",\n",
    "        \"Mozilla/5.0 (Linux; Android 13; Pixel 7 Pro) AppleWebKit/537.36 (KHTML, like Gecko) Chrome/122.0.0.0 Mobile Safari/537.36\",\n",
    "        \"Mozilla/5.0 (Linux; Android 12; SM-G991B) AppleWebKit/537.36 (KHTML, like Gecko) Chrome/120.0.0.0 Mobile Safari/537.36\",\n",
    "        \"Mozilla/5.0 (Android 13; Mobile; rv:120.0) Gecko/120.0 Firefox/120.0\",\n",
    "        \"Mozilla/5.0 (iPhone; CPU iPhone OS 17_0 like Mac OS X) AppleWebKit/537.36 (KHTML, like Gecko) Version/17.0 Mobile/15E148 Safari/537.36\",\n",
    "        \"Mozilla/5.0 (iPhone; CPU iPhone OS 16_5 like Mac OS X) AppleWebKit/537.36 (KHTML, like Gecko) CriOS/120.0.0.0 Mobile/15E148 Safari/537.36\",\n",
    "        \"Mozilla/5.0 (iPad; CPU OS 16_1 like Mac OS X) AppleWebKit/537.36 (KHTML, like Gecko) Version/16.1 Mobile/15E148 Safari/537.36\"\n",
    "    ]\n",
    "\n",
    "    random_user_agent = random.choice(user_agents)\n",
    "\n",
    "    options = uc.ChromeOptions()\n",
    "\n",
    "    # ⚙️ Base Config\n",
    "    if headless:\n",
    "        options.add_argument(\"--headless=new\")  # `new` flag is more stable for uc\n",
    "    if incognito:\n",
    "        options.add_argument(\"--incognito\")\n",
    "    \n",
    "    # 🛡️ Stealth Boosters\n",
    "    options.add_argument(\"--no-sandbox\")\n",
    "    options.add_argument(\"--disable-blink-features=AutomationControlled\")\n",
    "    options.add_argument(\"--disable-dev-shm-usage\")\n",
    "    options.add_argument(\"--disable-popup-blocking\")\n",
    "    options.add_argument(\"--disable-infobars\")\n",
    "    options.add_argument(\"--start-maximized\")\n",
    "    options.add_argument(f\"user-agent={random_user_agent}\")\n",
    "\n",
    "    # 🔒 Fingerprint hiding\n",
    "    # options.add_experimental_option(\"excludeSwitches\", [\"enable-automation\"])\n",
    "    # options.add_experimental_option(\"useAutomationExtension\", False)\n",
    "\n",
    "    # 🚀 Init driver with stealth patches applied\n",
    "    driver = uc.Chrome(options=options)\n",
    "    return driver\n",
    "driver = get_uc_driver()"
   ]
  },
  {
   "cell_type": "code",
   "execution_count": 4,
   "metadata": {},
   "outputs": [],
   "source": [
    "def sleeper():\n",
    "    x = random.uniform(3,8)\n",
    "    time.sleep(x)\n"
   ]
  },
  {
   "cell_type": "code",
   "execution_count": null,
   "metadata": {},
   "outputs": [
    {
     "ename": "InvalidArgumentException",
     "evalue": "Message: invalid argument: cannot parse capability: goog:chromeOptions\nfrom invalid argument: unrecognized chrome option: excludeSwitches\nStacktrace:\n#0 0x57c9020e8d0a <unknown>\n#1 0x57c901b995f0 <unknown>\n#2 0x57c901bc63d0 <unknown>\n#3 0x57c901bc79f5 <unknown>\n#4 0x57c901bc2c0d <unknown>\n#5 0x57c901c1d188 <unknown>\n#6 0x57c901c1c9ca <unknown>\n#7 0x57c901c1e6f2 <unknown>\n#8 0x57c901c1e4c6 <unknown>\n#9 0x57c901c10433 <unknown>\n#10 0x57c901bdcea3 <unknown>\n#11 0x57c901bddb01 <unknown>\n#12 0x57c9020adb5b <unknown>\n#13 0x57c9020b1a41 <unknown>\n#14 0x57c902094c52 <unknown>\n#15 0x57c9020b25b4 <unknown>\n#16 0x57c902078f0f <unknown>\n#17 0x57c9020d6db8 <unknown>\n#18 0x57c9020d6f96 <unknown>\n#19 0x57c9020e7b56 <unknown>\n#20 0x7533bce9caa4 <unknown>\n#21 0x7533bcf29c3c <unknown>\n",
     "output_type": "error",
     "traceback": [
      "\u001b[31m---------------------------------------------------------------------------\u001b[39m",
      "\u001b[31mInvalidArgumentException\u001b[39m                  Traceback (most recent call last)",
      "\u001b[36mCell\u001b[39m\u001b[36m \u001b[39m\u001b[32mIn[5]\u001b[39m\u001b[32m, line 1\u001b[39m\n\u001b[32m----> \u001b[39m\u001b[32m1\u001b[39m driver = \u001b[43mget_uc_driver\u001b[49m\u001b[43m(\u001b[49m\u001b[43m)\u001b[49m\n",
      "\u001b[36mCell\u001b[39m\u001b[36m \u001b[39m\u001b[32mIn[3]\u001b[39m\u001b[32m, line 43\u001b[39m, in \u001b[36mget_uc_driver\u001b[39m\u001b[34m(headless, incognito)\u001b[39m\n\u001b[32m     40\u001b[39m options.add_experimental_option(\u001b[33m\"\u001b[39m\u001b[33museAutomationExtension\u001b[39m\u001b[33m\"\u001b[39m, \u001b[38;5;28;01mFalse\u001b[39;00m)\n\u001b[32m     42\u001b[39m \u001b[38;5;66;03m# 🚀 Init driver with stealth patches applied\u001b[39;00m\n\u001b[32m---> \u001b[39m\u001b[32m43\u001b[39m driver = \u001b[43muc\u001b[49m\u001b[43m.\u001b[49m\u001b[43mChrome\u001b[49m\u001b[43m(\u001b[49m\u001b[43moptions\u001b[49m\u001b[43m=\u001b[49m\u001b[43moptions\u001b[49m\u001b[43m)\u001b[49m\n\u001b[32m     44\u001b[39m \u001b[38;5;28;01mreturn\u001b[39;00m driver\n",
      "\u001b[36mFile \u001b[39m\u001b[32m/media/md-abdullah-all-mamun/Development1/programming/webscraping/Scrappers_for_github/ebay_scrapper/venv/lib/python3.12/site-packages/undetected_chromedriver/__init__.py:466\u001b[39m, in \u001b[36mChrome.__init__\u001b[39m\u001b[34m(self, options, user_data_dir, driver_executable_path, browser_executable_path, port, enable_cdp_events, desired_capabilities, advanced_elements, keep_alive, log_level, headless, version_main, patcher_force_close, suppress_welcome, use_subprocess, debug, no_sandbox, user_multi_procs, **kw)\u001b[39m\n\u001b[32m    459\u001b[39m     \u001b[38;5;28mself\u001b[39m.browser_pid = browser.pid\n\u001b[32m    462\u001b[39m service = selenium.webdriver.chromium.service.ChromiumService(\n\u001b[32m    463\u001b[39m     \u001b[38;5;28mself\u001b[39m.patcher.executable_path\n\u001b[32m    464\u001b[39m )\n\u001b[32m--> \u001b[39m\u001b[32m466\u001b[39m \u001b[38;5;28;43msuper\u001b[39;49m\u001b[43m(\u001b[49m\u001b[43mChrome\u001b[49m\u001b[43m,\u001b[49m\u001b[43m \u001b[49m\u001b[38;5;28;43mself\u001b[39;49m\u001b[43m)\u001b[49m\u001b[43m.\u001b[49m\u001b[34;43m__init__\u001b[39;49m\u001b[43m(\u001b[49m\n\u001b[32m    467\u001b[39m \u001b[43m    \u001b[49m\u001b[43mservice\u001b[49m\u001b[43m=\u001b[49m\u001b[43mservice\u001b[49m\u001b[43m,\u001b[49m\n\u001b[32m    468\u001b[39m \u001b[43m    \u001b[49m\u001b[43moptions\u001b[49m\u001b[43m=\u001b[49m\u001b[43moptions\u001b[49m\u001b[43m,\u001b[49m\n\u001b[32m    469\u001b[39m \u001b[43m    \u001b[49m\u001b[43mkeep_alive\u001b[49m\u001b[43m=\u001b[49m\u001b[43mkeep_alive\u001b[49m\u001b[43m,\u001b[49m\n\u001b[32m    470\u001b[39m \u001b[43m\u001b[49m\u001b[43m)\u001b[49m\n\u001b[32m    472\u001b[39m \u001b[38;5;28mself\u001b[39m.reactor = \u001b[38;5;28;01mNone\u001b[39;00m\n\u001b[32m    474\u001b[39m \u001b[38;5;28;01mif\u001b[39;00m enable_cdp_events:\n",
      "\u001b[36mFile \u001b[39m\u001b[32m/media/md-abdullah-all-mamun/Development1/programming/webscraping/Scrappers_for_github/ebay_scrapper/venv/lib/python3.12/site-packages/selenium/webdriver/chrome/webdriver.py:45\u001b[39m, in \u001b[36mWebDriver.__init__\u001b[39m\u001b[34m(self, options, service, keep_alive)\u001b[39m\n\u001b[32m     42\u001b[39m service = service \u001b[38;5;28;01mif\u001b[39;00m service \u001b[38;5;28;01melse\u001b[39;00m Service()\n\u001b[32m     43\u001b[39m options = options \u001b[38;5;28;01mif\u001b[39;00m options \u001b[38;5;28;01melse\u001b[39;00m Options()\n\u001b[32m---> \u001b[39m\u001b[32m45\u001b[39m \u001b[38;5;28;43msuper\u001b[39;49m\u001b[43m(\u001b[49m\u001b[43m)\u001b[49m\u001b[43m.\u001b[49m\u001b[34;43m__init__\u001b[39;49m\u001b[43m(\u001b[49m\n\u001b[32m     46\u001b[39m \u001b[43m    \u001b[49m\u001b[43mbrowser_name\u001b[49m\u001b[43m=\u001b[49m\u001b[43mDesiredCapabilities\u001b[49m\u001b[43m.\u001b[49m\u001b[43mCHROME\u001b[49m\u001b[43m[\u001b[49m\u001b[33;43m\"\u001b[39;49m\u001b[33;43mbrowserName\u001b[39;49m\u001b[33;43m\"\u001b[39;49m\u001b[43m]\u001b[49m\u001b[43m,\u001b[49m\n\u001b[32m     47\u001b[39m \u001b[43m    \u001b[49m\u001b[43mvendor_prefix\u001b[49m\u001b[43m=\u001b[49m\u001b[33;43m\"\u001b[39;49m\u001b[33;43mgoog\u001b[39;49m\u001b[33;43m\"\u001b[39;49m\u001b[43m,\u001b[49m\n\u001b[32m     48\u001b[39m \u001b[43m    \u001b[49m\u001b[43moptions\u001b[49m\u001b[43m=\u001b[49m\u001b[43moptions\u001b[49m\u001b[43m,\u001b[49m\n\u001b[32m     49\u001b[39m \u001b[43m    \u001b[49m\u001b[43mservice\u001b[49m\u001b[43m=\u001b[49m\u001b[43mservice\u001b[49m\u001b[43m,\u001b[49m\n\u001b[32m     50\u001b[39m \u001b[43m    \u001b[49m\u001b[43mkeep_alive\u001b[49m\u001b[43m=\u001b[49m\u001b[43mkeep_alive\u001b[49m\u001b[43m,\u001b[49m\n\u001b[32m     51\u001b[39m \u001b[43m\u001b[49m\u001b[43m)\u001b[49m\n",
      "\u001b[36mFile \u001b[39m\u001b[32m/media/md-abdullah-all-mamun/Development1/programming/webscraping/Scrappers_for_github/ebay_scrapper/venv/lib/python3.12/site-packages/selenium/webdriver/chromium/webdriver.py:66\u001b[39m, in \u001b[36mChromiumDriver.__init__\u001b[39m\u001b[34m(self, browser_name, vendor_prefix, options, service, keep_alive)\u001b[39m\n\u001b[32m     57\u001b[39m executor = ChromiumRemoteConnection(\n\u001b[32m     58\u001b[39m     remote_server_addr=\u001b[38;5;28mself\u001b[39m.service.service_url,\n\u001b[32m     59\u001b[39m     browser_name=browser_name,\n\u001b[32m   (...)\u001b[39m\u001b[32m     62\u001b[39m     ignore_proxy=options._ignore_local_proxy,\n\u001b[32m     63\u001b[39m )\n\u001b[32m     65\u001b[39m \u001b[38;5;28;01mtry\u001b[39;00m:\n\u001b[32m---> \u001b[39m\u001b[32m66\u001b[39m     \u001b[38;5;28;43msuper\u001b[39;49m\u001b[43m(\u001b[49m\u001b[43m)\u001b[49m\u001b[43m.\u001b[49m\u001b[34;43m__init__\u001b[39;49m\u001b[43m(\u001b[49m\u001b[43mcommand_executor\u001b[49m\u001b[43m=\u001b[49m\u001b[43mexecutor\u001b[49m\u001b[43m,\u001b[49m\u001b[43m \u001b[49m\u001b[43moptions\u001b[49m\u001b[43m=\u001b[49m\u001b[43moptions\u001b[49m\u001b[43m)\u001b[49m\n\u001b[32m     67\u001b[39m \u001b[38;5;28;01mexcept\u001b[39;00m \u001b[38;5;167;01mException\u001b[39;00m:\n\u001b[32m     68\u001b[39m     \u001b[38;5;28mself\u001b[39m.quit()\n",
      "\u001b[36mFile \u001b[39m\u001b[32m/media/md-abdullah-all-mamun/Development1/programming/webscraping/Scrappers_for_github/ebay_scrapper/venv/lib/python3.12/site-packages/selenium/webdriver/remote/webdriver.py:250\u001b[39m, in \u001b[36mWebDriver.__init__\u001b[39m\u001b[34m(self, command_executor, keep_alive, file_detector, options, locator_converter, web_element_cls, client_config)\u001b[39m\n\u001b[32m    248\u001b[39m \u001b[38;5;28mself\u001b[39m._authenticator_id = \u001b[38;5;28;01mNone\u001b[39;00m\n\u001b[32m    249\u001b[39m \u001b[38;5;28mself\u001b[39m.start_client()\n\u001b[32m--> \u001b[39m\u001b[32m250\u001b[39m \u001b[38;5;28;43mself\u001b[39;49m\u001b[43m.\u001b[49m\u001b[43mstart_session\u001b[49m\u001b[43m(\u001b[49m\u001b[43mcapabilities\u001b[49m\u001b[43m)\u001b[49m\n\u001b[32m    251\u001b[39m \u001b[38;5;28mself\u001b[39m._fedcm = FedCM(\u001b[38;5;28mself\u001b[39m)\n\u001b[32m    253\u001b[39m \u001b[38;5;28mself\u001b[39m._websocket_connection = \u001b[38;5;28;01mNone\u001b[39;00m\n",
      "\u001b[36mFile \u001b[39m\u001b[32m/media/md-abdullah-all-mamun/Development1/programming/webscraping/Scrappers_for_github/ebay_scrapper/venv/lib/python3.12/site-packages/undetected_chromedriver/__init__.py:724\u001b[39m, in \u001b[36mChrome.start_session\u001b[39m\u001b[34m(self, capabilities, browser_profile)\u001b[39m\n\u001b[32m    722\u001b[39m \u001b[38;5;28;01mif\u001b[39;00m \u001b[38;5;129;01mnot\u001b[39;00m capabilities:\n\u001b[32m    723\u001b[39m     capabilities = \u001b[38;5;28mself\u001b[39m.options.to_capabilities()\n\u001b[32m--> \u001b[39m\u001b[32m724\u001b[39m \u001b[38;5;28;43msuper\u001b[39;49m\u001b[43m(\u001b[49m\u001b[43mselenium\u001b[49m\u001b[43m.\u001b[49m\u001b[43mwebdriver\u001b[49m\u001b[43m.\u001b[49m\u001b[43mchrome\u001b[49m\u001b[43m.\u001b[49m\u001b[43mwebdriver\u001b[49m\u001b[43m.\u001b[49m\u001b[43mWebDriver\u001b[49m\u001b[43m,\u001b[49m\u001b[43m \u001b[49m\u001b[38;5;28;43mself\u001b[39;49m\u001b[43m)\u001b[49m\u001b[43m.\u001b[49m\u001b[43mstart_session\u001b[49m\u001b[43m(\u001b[49m\n\u001b[32m    725\u001b[39m \u001b[43m    \u001b[49m\u001b[43mcapabilities\u001b[49m\n\u001b[32m    726\u001b[39m \u001b[43m\u001b[49m\u001b[43m)\u001b[49m\n",
      "\u001b[36mFile \u001b[39m\u001b[32m/media/md-abdullah-all-mamun/Development1/programming/webscraping/Scrappers_for_github/ebay_scrapper/venv/lib/python3.12/site-packages/selenium/webdriver/remote/webdriver.py:342\u001b[39m, in \u001b[36mWebDriver.start_session\u001b[39m\u001b[34m(self, capabilities)\u001b[39m\n\u001b[32m    333\u001b[39m \u001b[38;5;250m\u001b[39m\u001b[33;03m\"\"\"Creates a new session with the desired capabilities.\u001b[39;00m\n\u001b[32m    334\u001b[39m \n\u001b[32m    335\u001b[39m \u001b[33;03mParameters:\u001b[39;00m\n\u001b[32m   (...)\u001b[39m\u001b[32m    338\u001b[39m \u001b[33;03m    - A capabilities dict to start the session with.\u001b[39;00m\n\u001b[32m    339\u001b[39m \u001b[33;03m\"\"\"\u001b[39;00m\n\u001b[32m    341\u001b[39m caps = _create_caps(capabilities)\n\u001b[32m--> \u001b[39m\u001b[32m342\u001b[39m response = \u001b[38;5;28;43mself\u001b[39;49m\u001b[43m.\u001b[49m\u001b[43mexecute\u001b[49m\u001b[43m(\u001b[49m\u001b[43mCommand\u001b[49m\u001b[43m.\u001b[49m\u001b[43mNEW_SESSION\u001b[49m\u001b[43m,\u001b[49m\u001b[43m \u001b[49m\u001b[43mcaps\u001b[49m\u001b[43m)\u001b[49m[\u001b[33m\"\u001b[39m\u001b[33mvalue\u001b[39m\u001b[33m\"\u001b[39m]\n\u001b[32m    343\u001b[39m \u001b[38;5;28mself\u001b[39m.session_id = response.get(\u001b[33m\"\u001b[39m\u001b[33msessionId\u001b[39m\u001b[33m\"\u001b[39m)\n\u001b[32m    344\u001b[39m \u001b[38;5;28mself\u001b[39m.caps = response.get(\u001b[33m\"\u001b[39m\u001b[33mcapabilities\u001b[39m\u001b[33m\"\u001b[39m)\n",
      "\u001b[36mFile \u001b[39m\u001b[32m/media/md-abdullah-all-mamun/Development1/programming/webscraping/Scrappers_for_github/ebay_scrapper/venv/lib/python3.12/site-packages/selenium/webdriver/remote/webdriver.py:429\u001b[39m, in \u001b[36mWebDriver.execute\u001b[39m\u001b[34m(self, driver_command, params)\u001b[39m\n\u001b[32m    427\u001b[39m response = \u001b[38;5;28mself\u001b[39m.command_executor.execute(driver_command, params)\n\u001b[32m    428\u001b[39m \u001b[38;5;28;01mif\u001b[39;00m response:\n\u001b[32m--> \u001b[39m\u001b[32m429\u001b[39m     \u001b[38;5;28;43mself\u001b[39;49m\u001b[43m.\u001b[49m\u001b[43merror_handler\u001b[49m\u001b[43m.\u001b[49m\u001b[43mcheck_response\u001b[49m\u001b[43m(\u001b[49m\u001b[43mresponse\u001b[49m\u001b[43m)\u001b[49m\n\u001b[32m    430\u001b[39m     response[\u001b[33m\"\u001b[39m\u001b[33mvalue\u001b[39m\u001b[33m\"\u001b[39m] = \u001b[38;5;28mself\u001b[39m._unwrap_value(response.get(\u001b[33m\"\u001b[39m\u001b[33mvalue\u001b[39m\u001b[33m\"\u001b[39m, \u001b[38;5;28;01mNone\u001b[39;00m))\n\u001b[32m    431\u001b[39m     \u001b[38;5;28;01mreturn\u001b[39;00m response\n",
      "\u001b[36mFile \u001b[39m\u001b[32m/media/md-abdullah-all-mamun/Development1/programming/webscraping/Scrappers_for_github/ebay_scrapper/venv/lib/python3.12/site-packages/selenium/webdriver/remote/errorhandler.py:232\u001b[39m, in \u001b[36mErrorHandler.check_response\u001b[39m\u001b[34m(self, response)\u001b[39m\n\u001b[32m    230\u001b[39m         alert_text = value[\u001b[33m\"\u001b[39m\u001b[33malert\u001b[39m\u001b[33m\"\u001b[39m].get(\u001b[33m\"\u001b[39m\u001b[33mtext\u001b[39m\u001b[33m\"\u001b[39m)\n\u001b[32m    231\u001b[39m     \u001b[38;5;28;01mraise\u001b[39;00m exception_class(message, screen, stacktrace, alert_text)  \u001b[38;5;66;03m# type: ignore[call-arg]  # mypy is not smart enough here\u001b[39;00m\n\u001b[32m--> \u001b[39m\u001b[32m232\u001b[39m \u001b[38;5;28;01mraise\u001b[39;00m exception_class(message, screen, stacktrace)\n",
      "\u001b[31mInvalidArgumentException\u001b[39m: Message: invalid argument: cannot parse capability: goog:chromeOptions\nfrom invalid argument: unrecognized chrome option: excludeSwitches\nStacktrace:\n#0 0x57c9020e8d0a <unknown>\n#1 0x57c901b995f0 <unknown>\n#2 0x57c901bc63d0 <unknown>\n#3 0x57c901bc79f5 <unknown>\n#4 0x57c901bc2c0d <unknown>\n#5 0x57c901c1d188 <unknown>\n#6 0x57c901c1c9ca <unknown>\n#7 0x57c901c1e6f2 <unknown>\n#8 0x57c901c1e4c6 <unknown>\n#9 0x57c901c10433 <unknown>\n#10 0x57c901bdcea3 <unknown>\n#11 0x57c901bddb01 <unknown>\n#12 0x57c9020adb5b <unknown>\n#13 0x57c9020b1a41 <unknown>\n#14 0x57c902094c52 <unknown>\n#15 0x57c9020b25b4 <unknown>\n#16 0x57c902078f0f <unknown>\n#17 0x57c9020d6db8 <unknown>\n#18 0x57c9020d6f96 <unknown>\n#19 0x57c9020e7b56 <unknown>\n#20 0x7533bce9caa4 <unknown>\n#21 0x7533bcf29c3c <unknown>\n"
     ]
    }
   ],
   "source": [
    "driver = get_uc_driver()"
   ]
  },
  {
   "cell_type": "code",
   "execution_count": null,
   "metadata": {},
   "outputs": [],
   "source": [
    "driver.get(\"https://www.ebay.com/\")"
   ]
  },
  {
   "cell_type": "code",
   "execution_count": null,
   "metadata": {},
   "outputs": [],
   "source": [
    "sleeper()"
   ]
  },
  {
   "cell_type": "code",
   "execution_count": null,
   "metadata": {},
   "outputs": [],
   "source": [
    "search = driver.find_element(By.XPATH,'//input[@name=\"_nkw\"]')"
   ]
  },
  {
   "cell_type": "code",
   "execution_count": null,
   "metadata": {},
   "outputs": [],
   "source": [
    "search.clear()\n",
    "search.send_keys(\"laptop\")\n",
    "search.send_keys(Keys.ENTER)\n"
   ]
  },
  {
   "cell_type": "code",
   "execution_count": null,
   "metadata": {},
   "outputs": [],
   "source": [
    "sleeper()"
   ]
  },
  {
   "cell_type": "code",
   "execution_count": null,
   "metadata": {},
   "outputs": [],
   "source": [
    "current_url= driver.current_url"
   ]
  },
  {
   "cell_type": "code",
   "execution_count": null,
   "metadata": {},
   "outputs": [],
   "source": [
    "response = driver.page_source"
   ]
  },
  {
   "cell_type": "code",
   "execution_count": null,
   "metadata": {},
   "outputs": [],
   "source": [
    "soup = BeautifulSoup(response,'lxml')"
   ]
  },
  {
   "cell_type": "code",
   "execution_count": null,
   "metadata": {},
   "outputs": [],
   "source": [
    "result_div = soup.find('div',id=\"srp-river-results\")\n"
   ]
  },
  {
   "cell_type": "code",
   "execution_count": null,
   "metadata": {},
   "outputs": [
    {
     "data": {
      "text/plain": [
       "37"
      ]
     },
     "execution_count": 14,
     "metadata": {},
     "output_type": "execute_result"
    }
   ],
   "source": [
    "list_iems = result_div.find(\"ul\",class_=\"srp-results srp-list clearfix\").find_all(\"li\",class_=\"s-item s-item__pl-on-bottom\")\n",
    "len(list_iems)"
   ]
  },
  {
   "cell_type": "code",
   "execution_count": null,
   "metadata": {},
   "outputs": [],
   "source": [
    "dic_list=[]\n",
    "\n",
    "for item in list_iems:\n",
    "    try:\n",
    "        name = item.find(\"span\",role=\"heading\").text\n",
    "    except:\n",
    "        name = \"not found\"\n",
    "    try:\n",
    "        # link = item.find('div',class_=\"s-item__image\").find('a')['href']\n",
    "        link = item.find('a')['href']\n",
    "    except:\n",
    "        link = \"not found\"\n",
    "    try:\n",
    "        price = item.find('span',class_=\"s-item__price\").find('span',class_=\"BOLD\").text\n",
    "    except:\n",
    "        price = 'not found'\n",
    "    x = {\n",
    "        'name':name,\n",
    "        'link':link,\n",
    "        'price':price,\n",
    "    }\n",
    "    dic_list.append(x)\n",
    "    "
   ]
  },
  {
   "cell_type": "code",
   "execution_count": null,
   "metadata": {},
   "outputs": [
    {
     "data": {
      "text/plain": [
       "[{'name': 'HP Stream 11 Pro G5 Laptop PC Computer 11.6\" Celeron Windows 10 4GB RAM 64GB SSD',\n",
       "  'link': 'https://www.ebay.com/itm/264714576220?_skw=laptop&itmmeta=01JR5M5DRNEF19RQDP3CA8XKTS&hash=item3da237e15c:g:xqYAAOSwG-tn5JpC&itmprp=enc%3AAQAKAAAAwFkggFvd1GGDu0w3yXCmi1exWP2hCrplmyZnGXl3jiDxwmk6giyT4JVAbcHWwASJptg5Fd5s5khD1ucnLI6wq99FIw6oGMD6MqkZJWH8D7VmV61QhmSRChBkrAqF9dCJa8zxnea69JyneAj7h76zWyB%2BCYAhP%2FqdBAvjMXQj4hj6ay0WVX3ZtlHGKBKRO39WBunVIUdoGbedRSCNf4L%2BTWrR%2Bgi3BKQznnaiCiSdUKssIpiBggt%2FRQ6SdtjoEOhfag%3D%3D%7Ctkp%3ABlBMUOTclbTBZQ',\n",
       "  'price': '$89.99'},\n",
       " {'name': 'Dell Laptop PC Computer 13.3\" Intel Celeron Windows 10 4GB RAM 128GB SSD WiFi',\n",
       "  'link': 'https://www.ebay.com/itm/263591761893?_skw=laptop&itmmeta=01JR5M5DRNXWK3MWTD5PJ734NV&hash=item3d5f4b17e5:g:1agAAOSwuWln8Ioj&itmprp=enc%3AAQAKAAAAwFkggFvd1GGDu0w3yXCmi1e8mLXZTaHCda3GF16NuH2yvVZTmUVXjxNLmIlqr7vMOE%2BbLkf5G4Jo3dlwnzBc2ra9DhLTnSFuU2x2mOkAaayMywIQV7qZ77mfFnljXfCMXxw6yPCbTg6UsupYW%2BMvW6AZ6eZBM37mZ3wxHyeW8ihF7xHNux9aBSN3i2O6zAsC8RVyZtQuIZ8H2Kjo%2BiHXFYrHCWdyo29aV2a2h1knUplFUcVQh2BBLoN3ML1AfVnxNA%3D%3D%7Ctkp%3ABlBMUOTclbTBZQ',\n",
       "  'price': '$87.63'},\n",
       " {'name': 'Dell Laptop E5470 14\" Intel Core i5 8GB Ram 256GB SSD Webcam Windows 10 Pro HDMI',\n",
       "  'link': 'https://www.ebay.com/itm/265369330737?_skw=laptop&itmmeta=01JR5M5DRNDER6KB3E10AGTPGN&hash=item3dc93ea431:g:iU0AAOSwz3Vk4Dp5&itmprp=enc%3AAQAKAAAAwFkggFvd1GGDu0w3yXCmi1c8FszaCBbQ%2FOlUluvQp0W1A3yHkwTcavOZI29yU%2BPlHrbH%2Bc2qWeYf6guswzXEcpNGWjPHJjFYWr7YvAeVYbHj7uTrLu7l4hb1EEr%2BkX%2FGZI0P6NftrmWbm40ABfa1CXnfuqow4DKEWRFIhqPQZyMZYfjtVDAhk9i01SMSGWm9LBKgWnO9SxDhofcNk6cv5LYTiNVsRC86NXU0kmngzHFHIQyL8B8UDGjLyxhgyxU6TA%3D%3D%7Ctkp%3ABlBMUOTclbTBZQ',\n",
       "  'price': '$132.37'},\n",
       " {'name': 'HP ProBook 640 G5 Laptop 14\" Windows 11 Quad-Core i5 4.1GHz 8GB RAM 128GB SSD',\n",
       "  'link': 'https://www.ebay.com/itm/254582474636?_skw=laptop&itmmeta=01JR5M5DRNKJQ1D94868K4GBJ3&hash=item3b464c478c:g:EhEAAOSwM6hn0vKp&itmprp=enc%3AAQAKAAAAwFkggFvd1GGDu0w3yXCmi1cm%2FeN%2FkS717ls23jNZs%2Bj%2FTs9mFmo%2FX9WqRTrPJD9BEC2AzTFhba8NdbCHOoLQpFu02%2FdcbiItfKIwkhOja0gXSOQWytvr%2Fqb7BRz6tr1yaVCLeY5t8t4kF9uBoERaNckcOcStwrT8VZmET96FIu1qX0RkQQEv%2FCfodphAIxf1GRn1Z776I8xVoblL7nE3TB9%2FBF860Tqlk6XSNrUHxa7OLjJ9QSePYTZbrHq7jKCMvg%3D%3D%7Ctkp%3ABlBMUOTclbTBZQ',\n",
       "  'price': '$171.54'},\n",
       " {'name': 'CHUWI - 14.1\" Laptop - Intel Celeron 2.8GH- 8GB Memory - 256GB SSD - HDMI Silver',\n",
       "  'link': 'https://www.ebay.com/itm/335503508427?_skw=laptop&itmmeta=01JR5M5DRNBQJRCT85M6JHPYH7&hash=item4e1d9143cb:g:zfwAAOSwFflmC-Nt&itmprp=enc%3AAQAKAAAAwFkggFvd1GGDu0w3yXCmi1cik9i64kRojFIueNKj2hpv07sMKdF5cbjp7u01%2Bga%2F3CL8Twk4vpM%2F%2BtBEkYx0%2Bfw6xIdJCmO9be2touK8t6qBkwzryPlyj6uTgOnV96UsN2vUOBs0kinRk3Y9io%2BryPfa0SALNO0QV5pT5%2FfY19Vc6gJ1JvVnFm20V3rSnCIkNCIX8qkdLWvP1LaiYzzC0RCkHM%2BxVT7vSAMbhP5mY4zzLEPSxoSsjX8HDs--cFV5SA%3D%3D%7Ctkp%3ABk9SR-TclbTBZQ',\n",
       "  'price': '$269.99'},\n",
       " {'name': '15.6\" FHD DELL Gaming Laptop PC: Intel i7 Quad Core! 32GB RAM ~ 1TB NVME SSD!',\n",
       "  'link': 'https://www.ebay.com/itm/116528001029?_skw=laptop&itmmeta=01JR5M5DRNVXV1GPCN6FVVAVRE&hash=item1b219c3005:g:K78AAOSwziRn3DeY&itmprp=enc%3AAQAKAAAAwFkggFvd1GGDu0w3yXCmi1cJBXVk%2FWN9%2BTNV%2BF4ifvUhqgnqQd2GRp%2BIUASnlXfV%2BNrw2sjuHqV83FZnboxIu2ofN6M6Foi0YCKUSWBwzIHaDaa1pIl%2Bp0dNjV8rYG1zfU7aQ99aEgkLAkjU60WhAv3dPfbBOQI4K6%2BXo5wPvxYvpWk0egZTit1oHcDRLcfa0bPfb%2BOW%2FGeW5PR%2FdiDkCHHmhXTyL4oo7c7LWonGAQwo%2FZIkgvYgjRD9h6wr7zd5mQ%3D%3D%7Ctkp%3ABk9SR-TclbTBZQ',\n",
       "  'price': '$389.95'},\n",
       " {'name': 'HP EliteBook 14” 1080p Laptop AMD Ryzen 5 PRO Up To 32GB RAM 1TB SSD Windows 11',\n",
       "  'link': 'https://www.ebay.com/itm/256879744174?_skw=laptop&itmmeta=01JR5M5DRNTMDN783HAZTZ556F&hash=item3bcf39d4ae:g:9VIAAOSwj9xn7UhW&itmprp=enc%3AAQAKAAAA4FkggFvd1GGDu0w3yXCmi1fyIOyX48EGcv06%2Bx5yR4j%2BYgBRxMvj4viLWiw2aSMvGnNtX2VW1VM4frnWrEOlZ%2Faj8DoJRZSgfE2r2QOBvKvQ%2BNCDjo%2FhDSWUQp%2FtMSpZpnJ7myZjNVztxgaZTz34hUKUMitY2NMG21hwYkLJjjhBTkmjyQqfODrEN%2BGE5iyoy0IqI%2Fo3zLo8AU8GBNWMzvoTLIGoLrAGi28m2cRC01S4qcCPCxqNUju4Rhw8bK%2BXKzKacYKO%2FLhoaS7gqsWEqmIAdJ3FBhbVfapaUVsnaOdq%7Ctkp%3ABk9SR-TclbTBZQ',\n",
       "  'price': '$188.78'},\n",
       " {'name': 'HP EliteBook Laptop Light Gaming PC Core i5 16GB RAM 512GB SSD Windows 11 Pro',\n",
       "  'link': 'https://www.ebay.com/itm/264714553889?_skw=laptop&itmmeta=01JR5M5DRNXWJFQWHPS6GGVRQ9&hash=item3da2378a21:g:zZQAAOSwX41n7zAA&itmprp=enc%3AAQAKAAAA4FkggFvd1GGDu0w3yXCmi1c9LPIiKLO7h82TA%2FMI8PcmoEpD%2FWvSjd3aEqj%2BLID6nYM8s%2BfNvft19sB%2B65Ny5fp%2BCPhy7%2B6l2KwwUzajFGVrxcCQ9eoRJq7jqP%2BvrBXpW9cASlxHkR%2BIrUy95QKBcZPadEdVEVcQ7jRUGduEDzsEvcKX8eWZ7OiVox4Xv9wesyZeNpPrwsD9tzjRwr3av3uJOGLfOw3u3s%2BTGiKsf3RNEG72HUo36D5h7RYD3bgfk6Y%2F1ZvKgwYZa1TVnZY0S6ZFFyCMskYkyk%2FOQFYOlbC1%7Ctkp%3ABk9SR-TclbTBZQ',\n",
       "  'price': '$291.28'},\n",
       " {'name': 'HP ProBook 14\" HD Laptop Computer Intel i5 Up To 32GB RAM 1TB SSD Windows 11 Pro',\n",
       "  'link': 'https://www.ebay.com/itm/286393092388?_skw=laptop&itmmeta=01JR5M5DRN4S6G39KAZRE4NZGC&hash=item42ae5bc924:g:fjMAAOSw14BnzGG-&itmprp=enc%3AAQAKAAAAwFkggFvd1GGDu0w3yXCmi1esZHRfdbb3DE4CjTep9pBynkdLitO5GO79VH6Mj1t30FeQOvrllqRYcokT8GK%2F%2BvddSZMk782i6mZO%2F%2BL1OjYxRK%2BDc8H3dmNTZf0nK80bhj6G9ROJ6dQcHa5BQyuCjBRldx0OBU%2F0MGsWWtnB6dApkMhNsed6jW%2FZJUrxRbmCemkP90o8Q0vH96lxAgdt2RRauZ%2FNZrvC5XK6MYh0Ptu9v%2FPsU9WGzCToK9kQfCLjDg%3D%3D%7Ctkp%3ABk9SR-TclbTBZQ',\n",
       "  'price': '$168.78'},\n",
       " {'name': '15.6\" FHD DELL Gaming Laptop PC: Intel i7 Quad Core! 16GB RAM ~ 1TB NVME SSD!',\n",
       "  'link': 'https://www.ebay.com/itm/116507650119?_skw=laptop&itmmeta=01JR5M5DRNDC420V05H4VKRJGZ&hash=item1b2065a847:g:8koAAOSw1rhn3DIb&itmprp=enc%3AAQAKAAAAwFkggFvd1GGDu0w3yXCmi1cwkSvjn09KIXE4GaWgqJo%2FvdRioVSGtPPDaswGvJ8nm3a1Jt4%2FGkfv6wSgNXxqd%2FzUBYsVokLE86eB6CpG1ZpgyhM8bfOAXkhnl0%2FxBQL91EiUGx3VKrpf8p%2FObi%2B6AgmkEPP92CRwqG%2Bj0%2FgYdXbntOkEQx%2FH6c%2FNK1xsmfdm7L4w92ueqaHRbMeR5jzepb2zWMkKKcp2tU66HRDfxmC8LLwC3LZJlYSDePAVSir6tg%3D%3D%7Ctkp%3ABk9SR-TclbTBZQ',\n",
       "  'price': '$339.95'},\n",
       " {'name': 'HP ProBook 640 G5 14\" HD Laptop Computer Core i5 16GB RAM 256GB SSD Windows 11',\n",
       "  'link': 'https://www.ebay.com/itm/283951308518?_skw=laptop&itmmeta=01JR5M5DRNJGK6GYNWT49BN6JP&hash=item421cd11ee6:g:XxkAAOSwGlZnyPx7&itmprp=enc%3AAQAKAAAAwFkggFvd1GGDu0w3yXCmi1cKy5%2F51Uat4DtiiWmVSUqqXG%2BKFZ1HRxdPG6Grb%2FFNicsQBNpEgf1liMC2GBbhd05RcZ3%2FXLgzsF6EqZHUosTY7HAbx9%2BpeH7Kf0mbADDVkWqpFj3ioMSODulZBb%2BFRxoVfHlFO9SlcO%2FjCUzy3pfKJdult0rlwQIOjcUDzwSCBjPusH5IAFwFFTGUwhzoRKESLaMnm15dxD24uGqxBRdj7pLuk60VFJGLymT%2FJF3GOw%3D%3D%7Ctkp%3ABk9SR-TclbTBZQ',\n",
       "  'price': '$196.09'},\n",
       " {'name': 'Dell Precision 15.6\" FHD Laptop Intel Xeon 3.8GHz 32GB RAM 512GB SSD Windows 10',\n",
       "  'link': 'https://www.ebay.com/itm/256496543516?_skw=laptop&itmmeta=01JR5M5DRPAA0E1MFPWP91WJ1F&hash=item3bb862a71c:g:gc4AAOSwbUln52Ar&itmprp=enc%3AAQAKAAAAwFkggFvd1GGDu0w3yXCmi1eb5rVFUhvDekmSimzq1q0RIcnjJWDSIAYnD0xTVz5uH18UNpuVNGECINk%2BaheqsT%2FI2yjGkYLzN7%2BWfS9irlnfqNupiaXZvDJdQN%2FUd6cZjUzVlRKLCaAxSpxc9S7hM5Yp43sCwZI3gCvRgjg5Z278CkNRDoVTF5vhrT%2Fz2xTscXTYM42Cc9LzgPekt3LI6czTXKw0xY9piHhNMG45H2A0lIbGZ5SVMqCJMgXhIHlr8Q%3D%3D%7Ctkp%3ABk9SR-TclbTBZQ',\n",
       "  'price': '$271.86'},\n",
       " {'name': 'Dell Laptop PC Computer 11.6\" Intel Celeron N4100 4GB RAM 64GB SSD Windows 10',\n",
       "  'link': 'https://www.ebay.com/itm/254170214367?_skw=laptop&itmmeta=01JR5M5DRPDAEFFXJVXYYXT3PV&hash=item3b2db9afdf:g:ipkAAOSwCmdn72mj&itmprp=enc%3AAQAKAAAAwFkggFvd1GGDu0w3yXCmi1eiw%2BylSIPDjeO1gH%2BSHaPaSJfwsiCKXlRiIKrLm7qh2ASoOwWT4BTr1o5peO7dzH6ZS7qPt116L5Fj66nJ3NPLLuskgGpzuenqZCmkX5wngy67soP8n%2BDW3iDBPCheHEh1ETiUPdfwuHZSYpH850KNKrGFOm75GwAzaylS%2BIULfRgFFlhSDbK7UHIEH9vmdLkVW5dcf9f0giPtB4SJnAoCc6Oyfw5S6B9Dv4ii6Uy3lg%3D%3D%7Ctkp%3ABk9SR-TclbTBZQ',\n",
       "  'price': '$77.58'},\n",
       " {'name': 'HP ProBook Light Gaming Laptop 1920x1080 4-Core i7 32GB RAM 512GB SSD Windows 11',\n",
       "  'link': 'https://www.ebay.com/itm/256776833046?_skw=laptop&itmmeta=01JR5M5DRPJ57T1AGE3F9BGKS9&hash=item3bc9178816:g:xBYAAOSwjpdn7eeZ&itmprp=enc%3AAQAKAAAAwFkggFvd1GGDu0w3yXCmi1fuEC2g%2F7LGRIcrst4ENEZcG8hi67vMph2jwAT37kWr4%2FEZ4XY6ZM0Ot3Bz4%2FnBBbIOLnwk%2BZtvO7OyEA5KGYvtnrY1dJJL1k6lWAiKbmwEWX02Yg86ud%2ByGt%2BoP6EgJ1X7FpPwS8JB0EZo6scyZ6sOUM600F1ohKYiUEHQRmQnbLffSV1vkME1pvwFlwKYvc7vYZLSU3SLWO%2B4H%2FVZYedWRPply10xF0O6HF5k99te1A%3D%3D%7Ctkp%3ABk9SR-TclbTBZQ',\n",
       "  'price': '$368.95'},\n",
       " {'name': 'Dell Latitude E5470 14\" Laptop Core i5 2.3GHz 8GB 256GB SSD Windows 10 HDMI',\n",
       "  'link': 'https://www.ebay.com/itm/254754472823?_skw=laptop&epid=15032171267&itmmeta=01JR5M5DRPTR4C0J8Y9D73FQE2&hash=item3b508cc377:g:nEEAAOSwOpxjt0Ka&itmprp=enc%3AAQAKAAAAwFkggFvd1GGDu0w3yXCmi1cFOXFrEX1K2EXFWO8f5b0j9OrtiYaz1%2FIsytNfsb2vz5%2FwuZvFYlX%2FRQ8GumjYi4vVfy7LmNmQoZSItEwGUnW5kPFRr5UGmrH%2BQtI9pY2JKkce%2Bm3Wpk6b8%2BsyHkkYK9iQ62FNgb%2F%2BWRozCfDBWgg8tXNwagRQB1Yl%2BJ%2FXgwEUoQEufCQc%2BYcBjmDHqD5UOjDZmEpcx0wPqnhEdP2ZfGBlhrTDMkJ4pEXLhB8JPIP%2FAA%3D%3D%7Ctkp%3ABlBMUOTclbTBZQ',\n",
       "  'price': '$124.07'},\n",
       " {'name': 'Dell Latitude E6440 14\" Laptop PC Computer Core i7 16GB RAM 256GB SSD Windows 10',\n",
       "  'link': 'https://www.ebay.com/itm/283559983200?_skw=laptop&itmmeta=01JR5M5DRPXQBQG0T8RNYNX076&hash=item42057df860:g:TB8AAOSw0jVnr~82&itmprp=enc%3AAQAKAAAAwFkggFvd1GGDu0w3yXCmi1c1Nn82HEZ4jYk4dBo2cKGxcK0XelC19oda4FSTrOj97kRv4jp0IAwfxgg0%2B2BqIGzno3znFSP7Ze%2Bm8VGZA0IrpqSJl4XbPj6WTH%2FHEPaw3%2B9pjd1miZjWCvajK%2FxKRVYbHHa%2BOhCCw1vm%2Bqpw%2BmAPO0RsdcjhA1GnIwzKVvzMS06HWUNEh5vIadGJZ5FHjKN574mC%2FU0XsHqo4%2FiJ%2F044M8aESh7GkFivIFvmL8VDug%3D%3D%7Ctkp%3ABlBMUOTclbTBZQ',\n",
       "  'price': '$199.04'},\n",
       " {'name': 'HP EliteBook 840 G6 Laptop 14” Core i7 4.8GHz 16GB RAM 512GB SSD Windows 11 Pro',\n",
       "  'link': 'https://www.ebay.com/itm/256752971411?_skw=laptop&itmmeta=01JR5M5DRPGSE4NR1H8VWASADZ&hash=item3bc7ab6e93:g:mrIAAOSw9bdn73QS&itmprp=enc%3AAQAKAAAA4FkggFvd1GGDu0w3yXCmi1cDQR%2BX9TzBu8JhFZAOY04pdITUvu6tYvGkRC3VwDv8eMe%2FimmhWZJ4%2Fd97wZjaaNfjTTujyyqUcwQTjMAdbB6coI9MbnPaMkm2AzBOJwKE0TxpWMHmX%2B7j6xeCnLm6OBypxOqGK0G4HtwBiyMBlgmacMfzSp0S07PW%2FRNpw2QUSlvWixrWrLA18YU5xiZuWbLU4hLeRqBjCQ5EDnKf%2F1A33alvNAA8SBeV%2BajHvEKRbD2b41WeWp2QFJgRZzQ39z%2FLusCCzTsBHblAUGbu0tcl%7Ctkp%3ABk9SR-TclbTBZQ',\n",
       "  'price': '$291.28'},\n",
       " {'name': 'Dell Precision 7510 15.6\" Laptop Intel Xeon 4-Core 32GB RAM 256GB SSD Windows 10',\n",
       "  'link': 'https://www.ebay.com/itm/256817291094?_skw=laptop&itmmeta=01JR5M5DRPQ1S2ZFPJXYTS5T24&hash=item3bcb80df56:g:FewAAOSwoq5n6zbE&itmprp=enc%3AAQAKAAAAwFkggFvd1GGDu0w3yXCmi1fLCEsM6wycYC7gsJG47N1qIdETE6aaQ57qPcAuvLPMzgLqWi0zajxnv3RmodGBDLoFDn7rwqNjSc8vFxAjWFs58juhEI7evf6mNEDgcY%2F0PopIkD4Coo0IgwhSIK8s1E22A8Ibq9YNLkEtgYat9lV3yp03pQbtGmiXLIXVRC%2B%2FPK7Ob1tOtQqgYyVzLLS%2FttrcIq8HjyceFzPuZ9tcoOunPguPickelyAQP56REr4cZA%3D%3D%7Ctkp%3ABk9SR-TclbTBZQ',\n",
       "  'price': '$228.86'},\n",
       " {'name': 'HP Envy 16.0\" Touch Laptop Intel i7-13700H 32GB Ram 2TB SSD RTX 4060 W11H',\n",
       "  'link': 'https://www.ebay.com/itm/197085526842?_skw=laptop&itmmeta=01JR5M5DRPKHAYNYGBSB7VEMWK&hash=item2de3367b3a:g:vDUAAOSwHHVnyxCR&itmprp=enc%3AAQAKAAAAwFkggFvd1GGDu0w3yXCmi1fab14r%2BfzvML1O7TuYBx%2FY3n0u3CLDnePN%2BSxbSONm06GFaMWfPVQVM5sxeu7jl%2FwRFXyvEkqQESYBHzS2XpLCt2eJxXpqHnXd7l%2FIaECFTo0O%2FZYjhMeqOOZHM5ifFkCMiFQxgy9o1rKUzYWxf2QVvqpWS7P1wPDgPvic36aRTsedN%2FzOmb5C3WCVpny3x2VPhMvaGMKN63yfE6mKCWq0vtj5LD0vs%2FYvys9IH2mifQ%3D%3D%7Ctkp%3ABk9SR-bclbTBZQ',\n",
       "  'price': '$899.99'},\n",
       " {'name': 'HP Stream 11 Pro G5 Laptop PC Computer 11.6\" Celeron Windows 10 4GB RAM 64GB SSD',\n",
       "  'link': 'https://www.ebay.com/itm/264714576220?_skw=laptop&itmmeta=01JR5M5DSZQZHRG54KT2TH67V7&hash=item3da237e15c:g:xqYAAOSwG-tn5JpC&itmprp=enc%3AAQAKAAAAwFkggFvd1GGDu0w3yXCmi1exWP2hCrplmyZnGXl3jiDxwmk6giyT4JVAbcHWwASJpgl9A2skqUXwpbM9L47SsYJEHImwi3BvmQGdPebuYQTZnaUONcvBEOO2gZ6jk0A3Tbi9Vb1bqlio%2FVJ%2FL94UrrOlcrinyL1XvoVGPJJa3N6o5FXsXbImiCP0Ei%2BkQhc1UJZy7q6nAFY%2Fvdxx0BEhuJ69%2BXAOsrxQValgipRkhaG6JSZX%2Bvgtkp7hC%2FeGhr4E5g%3D%3D%7Ctkp%3ABlBMUKrdlbTBZQ',\n",
       "  'price': '$89.99'},\n",
       " {'name': 'Dell Laptop PC Computer 13.3\" Intel Celeron Windows 10 4GB RAM 128GB SSD WiFi',\n",
       "  'link': 'https://www.ebay.com/itm/263591761893?_skw=laptop&itmmeta=01JR5M5DSZGBTMR562TS6QA0G7&hash=item3d5f4b17e5:g:1agAAOSwuWln8Ioj&itmprp=enc%3AAQAKAAAAwFkggFvd1GGDu0w3yXCmi1e8mLXZTaHCda3GF16NuH2yvVZTmUVXjxNLmIlqr7vMOGx%2Bg6lnvFzg%2B81JwpTvTqQDqzfpSz%2FB7n1o45dVBrRDFLZiHFqpXRhtXbBjy5bQDV7w0glgoxDgKAsAi%2FYdeT4B2wJ9HckspRQJ%2BiA7I2EZK4AAFXQ6K9Xmzx05wPjzhQFba%2BcXh1GumIlVt8WanO69aRa%2BwtD3SLWnSaCcetKnDqSGg2i6Ydr%2F%2BP6ewsKHxg%3D%3D%7Ctkp%3ABlBMUKrdlbTBZQ',\n",
       "  'price': '$87.63'},\n",
       " {'name': 'Dell Latitude E5470 14\" Laptop Core i5 2.3GHz 8GB 256GB SSD Windows 10 HDMI',\n",
       "  'link': 'https://www.ebay.com/itm/254754472823?_skw=laptop&epid=15032171267&itmmeta=01JR5M5DSZXYQN1CFZC73QH0AA&hash=item3b508cc377:g:nEEAAOSwOpxjt0Ka&itmprp=enc%3AAQAKAAAAwFkggFvd1GGDu0w3yXCmi1cFOXFrEX1K2EXFWO8f5b0j9OrtiYaz1%2FIsytNfsb2vz%2BEIkhckOkZ1xDmHS4FtIRpkEkarRqwK7%2Fz08bwox2sNQOSSdhSgh0cGYq%2BRgEZGSaEIydXca73RxCBiiVIT6RdVi2K%2Fqev2fQ0dqS2CSVt7AwGOAIh%2BV2szmF0DcD%2F%2BZTa%2BSDtjCosCbjulWbekMsDWFIsxz97VnLe1v6djym3XSa%2BfijZXPGIMNP3fVuKboA%3D%3D%7Ctkp%3ABlBMUKrdlbTBZQ',\n",
       "  'price': '$124.07'},\n",
       " {'name': 'HP EliteBook 840 G3 14\" Laptop PC Core i5 8GB RAM 256GB SSD Windows 10 Pro',\n",
       "  'link': 'https://www.ebay.com/itm/266817215036?_skw=laptop&itmmeta=01JR5M5DSZPQQNQQ8J00AJ5WMV&hash=item3e1f8b9a3c:g:ZlgAAOSwkFRn8JQv&itmprp=enc%3AAQAKAAAAwFkggFvd1GGDu0w3yXCmi1cioF60ALxs9uNXmV5nVpF5OuyrN%2FcQVzzhfk%2F0C7t3dYkjC3BjN%2FZbCjqF4a9klOvnFWy%2FlqDt1iNdX4bRdQ15MQwDq0iuoi2%2BMHy0LaDIWZdqhuIBmVush7Up0MAqJQwQaPAnl5HsZ35l870rqLa3V4CBW3Lx9243kHRywUiG3lNbByWl7XvT%2FGCFd%2FBXU%2Bi6BdGyT2bqBZX%2Bk2Rl7iXL9e8spi6EgCSJXYpa%2Bj7TtA%3D%3D%7Ctkp%3ABlBMUKrdlbTBZQ',\n",
       "  'price': '$147.08'},\n",
       " {'name': 'Lenovo 11.6\" Touchscreen 2n1 Laptop Intel Pentium 4GB RAM 250GB SSD Windows 10',\n",
       "  'link': 'https://www.ebay.com/itm/265303491332?_skw=laptop&itmmeta=01JR5M5DSZ9P23Y7ATC87QX3BB&hash=item3dc5520304:g:gHQAAOSwTVlnmshO&itmprp=enc%3AAQAKAAAAwFkggFvd1GGDu0w3yXCmi1c6iB9ya5bqyGKiOHCyKlnb5DLRmEewx%2FTRnqm8S05B7itgcEX1lJoCDwDu3L2Q81JL7oXfETLN28xwgUwFfmhXs8BjFJqAB23ZOe8kvZ8%2F6y1peF28fj6WZMdz3kn%2BPobz2Ar6cHReoopv%2B0h4q7BdySo0JKoLzzLP%2FyQ1JwH9zfBCRDDDY8Bay8E0WvEn4ukztKpvBaHLiaULh%2FrBx7eaIdZehGCmlz2JThlgsYO5Bg%3D%3D%7Ctkp%3ABlBMUKrdlbTBZQ',\n",
       "  'price': '$120.93'},\n",
       " {'name': '14\" Lenovo ThinkPad X1 Carbon Laptop: Intel i5! 8GB RAM ~ 512GB SSD!  Windows 10',\n",
       "  'link': 'https://www.ebay.com/itm/116069681587?_skw=laptop&itmmeta=01JR5M5DSZ39FAZSCWS0GX4ESS&hash=item1b064ac9b3:g:tZwAAOSwrr5n4vRu&itmprp=enc%3AAQAKAAAAwFkggFvd1GGDu0w3yXCmi1cT5rJPC6%2BW1FpenQbMJ8XYyW9bHzxVusjtb%2BHHra9NDA%2FCAQC283D2UBDEQKsqCeLq8SukdVs7TA%2BxT04OpnYrfHGDDJqGHsw35PMA6YR2kpTqrWbZNluFN3s3aWDesn52gmCS1sOb%2FOPT0XBL%2FxaHJH18Wi99N%2BZ8%2B9hv0DYco80gWeLhGmnC%2BDGfSQqP0j84WtB3CUJodt9LsIb7rooDZuusx3g%2BBsFtmFuAtBBBtQ%3D%3D%7Ctkp%3ABlBMUKzdlbTBZQ',\n",
       "  'price': '$159.99'},\n",
       " {'name': 'Microsoft Surface Pro 7+ Intel i5 1135G7 2.40GHz 8GB RAM 128GB SSD 12.3\" Win 11 ',\n",
       "  'link': 'https://www.ebay.com/itm/204925679055?_skw=laptop&itmmeta=01JR5M5DSZDVZ6D4H9HKAESM9F&hash=item2fb685b5cf:g:XSYAAOSw9B1nKVxw&itmprp=enc%3AAQAKAAAA4FkggFvd1GGDu0w3yXCmi1dLbZQmVN2JjXP%2FiAbRjoOCoUD66w8aM7c7pnPPNEfZ3eeVr3oseDPwxCFmywnbMv6WjxEm4eAsIMYMSwlesN0nsKuUwd5iq7J1f9%2BU0uDZxisIQdKvw49WH1VXH%2FxfyJvbg1w%2FoVByGNNBkTorTaw0KJE4gM4VfcoH0Mb5O0460O2NY4r4FghMlpcHD4jDmSTF0HFqoGE17zPOGn7JTWJ3B%2ByzP1I%2BEMWw1out6UuIKoqOb%2F2wo6c9e02nlJhmztN8jZ%2BrrNarpFPCHlqIXq1W%7Ctkp%3ABFBMrN2VtMFl',\n",
       "  'price': '$217.44'},\n",
       " {'name': 'Microsoft Surface Pro 7 Intel i7 1065G7 1.30GHz 16GB RAM 256GB SSD 12.3\" Win 11',\n",
       "  'link': 'https://www.ebay.com/itm/186406814646?_skw=laptop&itmmeta=01JR5M5DSZGDH9G5FW8XY5Z1SW&hash=item2b66b643b6:g:Fu0AAOSwqZtmTDOp&itmprp=enc%3AAQAKAAAA4FkggFvd1GGDu0w3yXCmi1dLrhAETso09sOVf%2FGLVjv%2BsbstGlcNkmt9pOUVnRBRYn1sKNAtp4%2BiOwFYMqvx2TkSl6YUcWmLqBw29PiU1Twc5rvkmJjElgS3u4K4GP2dGrIMMBMmSPkq9A2OKEuKGbgj6RQtB6yIN4q%2Blg4fE%2BY6F0wDvOUI19jzvGtSHvQdA4S1oBrJfL2t355uinNvPo%2FwxT6QMeOnnluGX%2BErIMfBrGuxGylWIJ6nN%2FOeerRKuG8U9hCP%2FX7nuDVpnrC5qgSnknnCA7jbjJPXtAHy984e%7Ctkp%3ABFBMrN2VtMFl',\n",
       "  'price': '$401.06'},\n",
       " {'name': 'HP EliteBook 840 G8 14\" FHD Laptop Core i7 4.8GHz 16GB RAM 512GB SSD Windows 11',\n",
       "  'link': 'https://www.ebay.com/itm/267156366935?_skw=laptop&itmmeta=01JR5M5DRPXJMAXPTFHHY42QRG&hash=item3e33c2a657:g:S-IAAOSwWjBn7fQ3&itmprp=enc%3AAQAKAAAAwFkggFvd1GGDu0w3yXCmi1dmIc3NruqCGDOZhkBoAlqrpH1EnTRgYHqVFR5VDYz8%2FiQUQ74ryS3RNg73qrE6crq3D6kmpJch%2BVQX3DQrezQsaSoG%2Fuso9tVGQs6jFeo4rESFLZ47Fvqez62zCiKJapQ1mV2s3D1w5VV3wiRVYf%2FCc659wGSno5p9EDxib%2FuvTDW9DFX8hbYKREYrxyGPHzbvNC1CITWazCQ0nWLEKtt8X2cYdmrLAYyXFF%2BTCDWvtQ%3D%3D%7Ctkp%3ABk9SR-bclbTBZQ',\n",
       "  'price': '$346.57'},\n",
       " {'name': 'Samsung Galaxy Book 2 14\" Laptop i5-1250P 16GB RAM 256GB SSD Windows 11 PRO',\n",
       "  'link': 'https://www.ebay.com/itm/286090623991?_skw=laptop&epid=22055785665&itmmeta=01JR5M5DRPGGGZAR9H3QKZWMET&hash=item429c547bf7:g:2iMAAOSw3Rtm~uOr&itmprp=enc%3AAQAKAAAAwFkggFvd1GGDu0w3yXCmi1fpenPy4VQaH88Z8O%2BcGYWS7m2EKxJhBz6lQfOKhQ033OYziINAZ6Qd%2Bo2plg8tM2C19Ssrcb6B2fBeaxnBebDX%2BRebkFY4VNveMY%2Bh7dmiWRXloroi8OAQ%2BNoIMa57leGDRdjQUtW8o%2Bxq5vA7E4Ggy7Stp%2B%2F7HnycR9lrITNlxAGwGvtArVhAJniSDjVH2cfsaMNieQ5Ru7V0K7sl7bByVvCKx%2FcReDNiHQbYFhTZ0Q%3D%3D%7Ctkp%3ABk9SR-bclbTBZQ',\n",
       "  'price': '$559.00'},\n",
       " {'name': 'Lenovo ThinkPad T14 Laptop 14” HD Core i5 4.2GHz 16GB RAM 256GB SSD Win 11 Pro',\n",
       "  'link': 'https://www.ebay.com/itm/256629770691?_skw=laptop&itmmeta=01JR5M5DRP3EPA0ZHNED9R98Q6&hash=item3bc05389c3:g:fhEAAOSwbepn6zSm&itmprp=enc%3AAQAKAAAA4FkggFvd1GGDu0w3yXCmi1efUGBCSsv%2B5rVivDHmvaUH8Sdg2nKTmP%2F4XYxOgtLMoCSXAdWek2Sl8b%2BVagGdIJ6ybD237v4et2bxg%2FEJFwnYUH8XitGMcHzQ4o%2BDGtujGkngLwxufE3Dy30IPh1w2kRnRBLbVWpNqHZtCLslRpca4PQPH8kr%2FMayiKg2cHo686qeyuTu9pXKguWTZ0LaQnseSktAkCyXyzsV6DXpzdm06lGEo9OtA9Wv%2B1ergw2WGeEIw2UhLrB0%2FFWsaHaQpMF8NRPS3Du0tP3wvmrGRa4L%7Ctkp%3ABk9SR-bclbTBZQ',\n",
       "  'price': '$247.55'},\n",
       " {'name': 'Dell Precision 15.6” FHD Laptop 6-Core i7 32GB RAM 512GB SSD Windows 11 Pro',\n",
       "  'link': 'https://www.ebay.com/itm/286224694034?_skw=laptop&itmmeta=01JR5M5DRPXAVX8AAB3GR7M79D&hash=item42a4523b12:g:NcwAAOSwty9n4gk3&itmprp=enc%3AAQAKAAAAwFkggFvd1GGDu0w3yXCmi1eDwxUQNOza%2FckOujgBqHA7GyQpF%2FdvIryUzMOb36iFkpAsDcm6ZWXdFVytv8sDesm4fLvlGbDHsjfdrl890jHBVIIej1RN6rydnT5qWmAxItkXS2uznAj%2Bdzk9SwA2DQEJNqUAKkm9n61wHTd30XU%2FkRdrBO%2BFR96sWb44QuAlc51w%2BQjw2Ba0%2BDlLYRl7et4N5e0vJ0gNhNMMoiNp1I1o3M9UdmcnpBifWjwkMH%2FGVw%3D%3D%7Ctkp%3ABk9SR-bclbTBZQ',\n",
       "  'price': '$376.28'},\n",
       " {'name': 'Lenovo ThinkPad T480 Business Laptop 14\" Core i5 32GB RAM 512GB SSD Windows 11',\n",
       "  'link': 'https://www.ebay.com/itm/286047394395?_skw=laptop&itmmeta=01JR5M5DRPRNVBT9Q616HB175C&hash=item4299c0da5b:g:DKIAAOSwCbFn7euI&itmprp=enc%3AAQAKAAAAwFkggFvd1GGDu0w3yXCmi1eCb1KEPbEeESEVbx1n0MZJlb1no2V5LDNs8UZrXQwMQcjPbAtd7VBuR0CxpLc6bGLEtEvUCzP994vONHn%2FcZfsaujjQucrjdTGxl8AjpLbIeftH7FC3EvYPo%2FMl9CI7nBxsWhU9E1g798MBR1lNj1WGAMieRoYha6XJzZoGWvWbB%2BHoO0w08SVdIoh9XlA16OLlcIfErd9k07eHGuT61zfC%2FWHrz0NrPg1L3kGL8r3JQ%3D%3D%7Ctkp%3ABk9SR-bclbTBZQ',\n",
       "  'price': '$281.57'},\n",
       " {'name': 'Lenovo ThinkPad L13 Yoga Touch Laptop Core i5 13.3\" 8GB RAM 256GB SSD Windows 11',\n",
       "  'link': 'https://www.ebay.com/itm/286068793851?_skw=laptop&itmmeta=01JR5M5DRPJ27Y2C3KA4VVCHQR&hash=item429b0761fb:g:9YoAAOSwf0Vn4hWx&itmprp=enc%3AAQAKAAAAwFkggFvd1GGDu0w3yXCmi1cwKKYZOGPZqvBl9Ut3Kvb9TW0zdG3a1BWE1CfJuWlwkXkafQ9pxpd7EvgGGxwZoxkoD%2Faovp85Hz1m4iciG0vRyEUuVQAmECbRzZ5v8ioO2Dw%2BBoNiLYNlihtNKCPbvsvyCyCzHPbX%2F17ySTuWWUr1kFMBNHv1C2P%2BukHzExrlFuQIAy1VA49ZFic3t6dMPeE6pcak3j26yKsSYqHSHBP0BJTJQsUJfB56BqPT%2F%2BFjyQ%3D%3D%7Ctkp%3ABk9SR-bclbTBZQ',\n",
       "  'price': '$199.01'},\n",
       " {'name': '2025 Lenovo IdeaPad Laptop 15.6\" Intel Dual-Core, 20GB RAM 1TB SSD, 1-Yr MS 365',\n",
       "  'link': 'https://www.ebay.com/itm/116546294649?_skw=laptop&itmmeta=01JR5M5DRPKDTJZ5GM98P7NF2K&hash=item1b22b35379:g:DowAAOSwBIpn7Ze0&itmprp=enc%3AAQAKAAAA4FkggFvd1GGDu0w3yXCmi1eGYMtDyirnPymg4kZzuaHdk4FnYtqwKLHPuH2obTSs3F3rjssgEH%2FExeMwU%2FNmwPjyWGnQ%2Fx%2F2uylWyUsdQzcWfZT1N%2FUlsGZixDyFczKADTRLRz%2BB6UZkMwCjidf340T2d3XH%2FznbB4EaC7AdVgzKB4AeisxGg6ttbEvInMoQxHAUv%2F%2Be%2Ftxa11%2Fwa4bDxPpLjtLda4Yhe5AQALWc4c94xrSbVG69Z1Zct75MSWjaRVeBQwJ%2FeO8f0xnwChdScGcSRcWSdLdt%2Ba3eRm3LR%2Fxx%7Ctkp%3ABk9SR-bclbTBZQ',\n",
       "  'price': '$339.00'},\n",
       " {'name': 'Dell 14\" FHD Laptop Intel Quad Core i7 4.20GHz 64GB RAM 4TB SSD Windows 11 Pro',\n",
       "  'link': 'https://www.ebay.com/itm/335762770305?_skw=laptop&itmmeta=01JR5M5DRPQ2J284K5ZN0NDSFW&hash=item4e2d054981:g:T3wAAOSwR1BngY1o&itmprp=enc%3AAQAKAAAA4FkggFvd1GGDu0w3yXCmi1c2xDea%2FiR30bo9wUH6uNuYWLMVU9kzKNWrQeI%2FKbDO1ezPoagcTAp8GIGNboSy8lsP%2FvFJBNxkCV%2BvJVH0329J4nmv7krS%2BRjsX83g8HMKgnC%2BhlCmXgvEEgB64BgbCp7XtG4%2FGFcL4j7dLbhlM%2FxQ2KrWAjL7EiZ%2BkMxNq4udwoUIv9NtLf4iuSx8sHhPQOodn51hMw%2B4Uaattz0S%2FweTeIyUWA5sgnC%2B9zCNI9kl%2F95QkzEeVi2zew1vhs4PJvWZo82FsZrVTBRpwBChjqaZ%7Ctkp%3ABk9SR-bclbTBZQ',\n",
       "  'price': '$239.99'},\n",
       " {'name': 'Laptop HP Windows 11 CORE i5 GEN 6 - 12TH GEN 32GB RAM 1TB SSD WEBCAM WIFI',\n",
       "  'link': 'https://www.ebay.com/itm/115777670869?_skw=laptop&itmmeta=01JR5M5DRPQ8JKCVBH2JSPSX03&hash=item1af4e30ed5:g:onIAAOSw17hk3WLf&itmprp=enc%3AAQAKAAAA4FkggFvd1GGDu0w3yXCmi1fJ%2BI8YuPEtmSE%2FYeLRp1w7R05KScqSa3Oqhnk0qWCn1V2ZgSaGz1NFJIk8ZD--nxkxO5Z7FcQHsoJ6wyHFTKxNFHC5Gvp5Y0aBdPDVqd%2FZGkz46ej0ZwFfi3bBY9X5BmMy4mh%2Bnud23TsTojhc9nitfQ3Z%2BPo9RsxlHEdLJO%2Flq2xWa0kSoe8jPXyFnZOWZgVwWJ02s6bq7XOS%2BBHz02Dr0aUXjYUrWQGGsa0Y4u4xZtrqpYLcTAuTCO6Ak4ZoG%2BCaZ%2FqMl0K%2BX72oeDk7HK%2F2%7Ctkp%3ABk9SR-bclbTBZQ',\n",
       "  'price': '$219.07'},\n",
       " {'name': 'Lenovo LOQ 15.6\" FHD 144Hz Gaming Notebook R7-7435HS 16GB RAM 512GB SSD RTX 4070',\n",
       "  'link': 'https://www.ebay.com/itm/305718430632?_skw=laptop&itmmeta=01JR5M5DRPCCE20QS36WNBVJF3&hash=item472e3d0ba8:g:h88AAOSwarVne9rb&itmprp=enc%3AAQAKAAAA4FkggFvd1GGDu0w3yXCmi1cvw8mtcu2jrApIwffHQi3fobjOn9qlUM94lAGRdAVT9cksbnApg34mQdoozSQlcjmJlrF5Jn%2FTL%2FlLlRfujIVZN31M7VT211WmvhCZxWE7fcNyBBH%2BnoTOiTnac9MCblJt4VhXDnCzwgL7BZgHFLZd88H0dwNJFXnZ4x3uEnoUQo1yiVV8TsnDpNS69EtkYYbIcq1ltla65zn6Qpiwj6mcp6Hh0rA4PanJ8gVN1G%2FSGq1syAly%2ByH3cdF7uA%2Bf0j5hGNkGHT6NYo%2B6XC7xrPoe%7Ctkp%3ABk9SR-bclbTBZQ',\n",
       "  'price': '$899.99'}]"
      ]
     },
     "execution_count": 16,
     "metadata": {},
     "output_type": "execute_result"
    }
   ],
   "source": [
    "dic_list"
   ]
  },
  {
   "cell_type": "code",
   "execution_count": null,
   "metadata": {},
   "outputs": [],
   "source": []
  }
 ],
 "metadata": {
  "kernelspec": {
   "display_name": "venv",
   "language": "python",
   "name": "python3"
  },
  "language_info": {
   "codemirror_mode": {
    "name": "ipython",
    "version": 3
   },
   "file_extension": ".py",
   "mimetype": "text/x-python",
   "name": "python",
   "nbconvert_exporter": "python",
   "pygments_lexer": "ipython3",
   "version": "3.12.3"
  }
 },
 "nbformat": 4,
 "nbformat_minor": 2
}
